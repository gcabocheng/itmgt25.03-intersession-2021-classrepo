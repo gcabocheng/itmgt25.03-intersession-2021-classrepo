{
 "cells": [
  {
   "cell_type": "markdown",
   "id": "429fa9aa-0007-409b-95fb-2f06c03eee5a",
   "metadata": {},
   "source": [
    "# Assignment: Libraries\n",
    "\n",
    "This problem set aims to develop your ability to use non-standard libraries such as NumPy, Pandas, Matplotlib, and requests.  \n",
    "\n",
    "Please follow all instructions precisely."
   ]
  },
  {
   "cell_type": "markdown",
   "id": "a02a5721-90ea-491a-aafa-d8aec1619efe",
   "metadata": {},
   "source": [
    "## Prerequisite: Install libraries\n",
    "\n",
    "To do this assignment, you need to have a few libraries installed. You already know how to install libraries in a basic Python virtual environment. In Anaconda, it is even easier.  \n",
    "\n",
    "Install the following libraries:\n",
    "1. Pandas\n",
    "2. Requests\n",
    "3. Matplotlib\n",
    "\n",
    "Follow this tutorial to install external libraries for your Jupyter notebook using the Anaconda Navigator.  \n",
    "\n",
    "https://www.tutorialspoint.com/add-packages-to-anaconda-environment-in-python  \n",
    "\n",
    "Once you are done, run the following cell. If it does nothing (i.e., if it throws no errors), then you may proceed."
   ]
  },
  {
   "cell_type": "code",
   "execution_count": 2,
   "id": "433caeb7-bacc-4d80-ba37-b2e758d59398",
   "metadata": {},
   "outputs": [],
   "source": [
    "# NON-EDITABLE CODE CELL\n",
    "# You may run this cell, but do not edit it.\n",
    "\n",
    "import pandas as pd\n",
    "import numpy as np\n",
    "import matplotlib.pyplot as plt\n",
    "import requests"
   ]
  },
  {
   "cell_type": "code",
   "execution_count": null,
   "id": "3c3f81a6-783a-48be-844b-354c5e6469ef",
   "metadata": {},
   "outputs": [],
   "source": []
  }
 ],
 "metadata": {
  "kernelspec": {
   "display_name": "Python 3 (ipykernel)",
   "language": "python",
   "name": "python3"
  },
  "language_info": {
   "codemirror_mode": {
    "name": "ipython",
    "version": 3
   },
   "file_extension": ".py",
   "mimetype": "text/x-python",
   "name": "python",
   "nbconvert_exporter": "python",
   "pygments_lexer": "ipython3",
   "version": "3.9.5"
  }
 },
 "nbformat": 4,
 "nbformat_minor": 5
}
